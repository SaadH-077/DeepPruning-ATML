{
  "cells": [
    {
      "cell_type": "markdown",
      "metadata": {
        "id": "BXngeurLTl_v"
      },
      "source": [
        "# Task 2: Quantization"
      ]
    },
    {
      "cell_type": "markdown",
      "metadata": {
        "id": "t2Xx4fdMTpOc"
      },
      "source": [
        "#### Installing the required libraries"
      ]
    },
    {
      "cell_type": "code",
      "execution_count": 1,
      "metadata": {
        "colab": {
          "base_uri": "https://localhost:8080/"
        },
        "id": "ODCs9uB9TrYt",
        "outputId": "d8a4a215-039d-410d-8c05-bc0aebf6d860"
      },
      "outputs": [
        {
          "output_type": "stream",
          "name": "stdout",
          "text": [
            "Collecting torchinfo\n",
            "  Downloading torchinfo-1.8.0-py3-none-any.whl.metadata (21 kB)\n",
            "Downloading torchinfo-1.8.0-py3-none-any.whl (23 kB)\n",
            "Installing collected packages: torchinfo\n",
            "Successfully installed torchinfo-1.8.0\n",
            "Collecting torchao\n",
            "  Downloading torchao-0.6.1-cp310-cp310-manylinux_2_17_x86_64.manylinux2014_x86_64.whl.metadata (13 kB)\n",
            "Downloading torchao-0.6.1-cp310-cp310-manylinux_2_17_x86_64.manylinux2014_x86_64.whl (2.2 MB)\n",
            "\u001b[2K   \u001b[90m━━━━━━━━━━━━━━━━━━━━━━━━━━━━━━━━━━━━━━━━\u001b[0m \u001b[32m2.2/2.2 MB\u001b[0m \u001b[31m60.8 MB/s\u001b[0m eta \u001b[36m0:00:00\u001b[0m\n",
            "\u001b[?25hInstalling collected packages: torchao\n",
            "Successfully installed torchao-0.6.1\n",
            "Collecting optimum-quanto\n",
            "  Downloading optimum_quanto-0.2.6-py3-none-any.whl.metadata (13 kB)\n",
            "Requirement already satisfied: torch>=2.4.0 in /usr/local/lib/python3.10/dist-packages (from optimum-quanto) (2.5.0+cu121)\n",
            "Collecting ninja (from optimum-quanto)\n",
            "  Downloading ninja-1.11.1.1-py2.py3-none-manylinux1_x86_64.manylinux_2_5_x86_64.whl.metadata (5.3 kB)\n",
            "Requirement already satisfied: numpy in /usr/local/lib/python3.10/dist-packages (from optimum-quanto) (1.26.4)\n",
            "Requirement already satisfied: safetensors in /usr/local/lib/python3.10/dist-packages (from optimum-quanto) (0.4.5)\n",
            "Requirement already satisfied: huggingface-hub in /usr/local/lib/python3.10/dist-packages (from optimum-quanto) (0.24.7)\n",
            "Requirement already satisfied: filelock in /usr/local/lib/python3.10/dist-packages (from torch>=2.4.0->optimum-quanto) (3.16.1)\n",
            "Requirement already satisfied: typing-extensions>=4.8.0 in /usr/local/lib/python3.10/dist-packages (from torch>=2.4.0->optimum-quanto) (4.12.2)\n",
            "Requirement already satisfied: networkx in /usr/local/lib/python3.10/dist-packages (from torch>=2.4.0->optimum-quanto) (3.4.2)\n",
            "Requirement already satisfied: jinja2 in /usr/local/lib/python3.10/dist-packages (from torch>=2.4.0->optimum-quanto) (3.1.4)\n",
            "Requirement already satisfied: fsspec in /usr/local/lib/python3.10/dist-packages (from torch>=2.4.0->optimum-quanto) (2024.10.0)\n",
            "Requirement already satisfied: sympy==1.13.1 in /usr/local/lib/python3.10/dist-packages (from torch>=2.4.0->optimum-quanto) (1.13.1)\n",
            "Requirement already satisfied: mpmath<1.4,>=1.1.0 in /usr/local/lib/python3.10/dist-packages (from sympy==1.13.1->torch>=2.4.0->optimum-quanto) (1.3.0)\n",
            "Requirement already satisfied: packaging>=20.9 in /usr/local/lib/python3.10/dist-packages (from huggingface-hub->optimum-quanto) (24.1)\n",
            "Requirement already satisfied: pyyaml>=5.1 in /usr/local/lib/python3.10/dist-packages (from huggingface-hub->optimum-quanto) (6.0.2)\n",
            "Requirement already satisfied: requests in /usr/local/lib/python3.10/dist-packages (from huggingface-hub->optimum-quanto) (2.32.3)\n",
            "Requirement already satisfied: tqdm>=4.42.1 in /usr/local/lib/python3.10/dist-packages (from huggingface-hub->optimum-quanto) (4.66.6)\n",
            "Requirement already satisfied: MarkupSafe>=2.0 in /usr/local/lib/python3.10/dist-packages (from jinja2->torch>=2.4.0->optimum-quanto) (3.0.2)\n",
            "Requirement already satisfied: charset-normalizer<4,>=2 in /usr/local/lib/python3.10/dist-packages (from requests->huggingface-hub->optimum-quanto) (3.4.0)\n",
            "Requirement already satisfied: idna<4,>=2.5 in /usr/local/lib/python3.10/dist-packages (from requests->huggingface-hub->optimum-quanto) (3.10)\n",
            "Requirement already satisfied: urllib3<3,>=1.21.1 in /usr/local/lib/python3.10/dist-packages (from requests->huggingface-hub->optimum-quanto) (2.2.3)\n",
            "Requirement already satisfied: certifi>=2017.4.17 in /usr/local/lib/python3.10/dist-packages (from requests->huggingface-hub->optimum-quanto) (2024.8.30)\n",
            "Downloading optimum_quanto-0.2.6-py3-none-any.whl (165 kB)\n",
            "\u001b[2K   \u001b[90m━━━━━━━━━━━━━━━━━━━━━━━━━━━━━━━━━━━━━━━━\u001b[0m \u001b[32m165.1/165.1 kB\u001b[0m \u001b[31m10.9 MB/s\u001b[0m eta \u001b[36m0:00:00\u001b[0m\n",
            "\u001b[?25hDownloading ninja-1.11.1.1-py2.py3-none-manylinux1_x86_64.manylinux_2_5_x86_64.whl (307 kB)\n",
            "\u001b[2K   \u001b[90m━━━━━━━━━━━━━━━━━━━━━━━━━━━━━━━━━━━━━━━━\u001b[0m \u001b[32m307.2/307.2 kB\u001b[0m \u001b[31m21.0 MB/s\u001b[0m eta \u001b[36m0:00:00\u001b[0m\n",
            "\u001b[?25hInstalling collected packages: ninja, optimum-quanto\n",
            "Successfully installed ninja-1.11.1.1 optimum-quanto-0.2.6\n"
          ]
        }
      ],
      "source": [
        "!pip install torchinfo\n",
        "!pip install torchao\n",
        "!pip install optimum-quanto"
      ]
    },
    {
      "cell_type": "markdown",
      "metadata": {
        "id": "0h0Vt8UwTl_z"
      },
      "source": [
        "#### Loading in the required libraries"
      ]
    },
    {
      "cell_type": "code",
      "execution_count": 2,
      "metadata": {
        "id": "Z7pLdyyuTl_z"
      },
      "outputs": [],
      "source": [
        "import os\n",
        "import numpy as np\n",
        "from tqdm import tqdm\n",
        "import torch\n",
        "import torch.nn as nn\n",
        "import torch.optim as optim\n",
        "import torch.nn.functional as F\n",
        "import matplotlib.pyplot as plt\n",
        "from torchvision import models\n",
        "from torchinfo import summary\n",
        "import torchvision\n",
        "import torchvision.transforms as transforms\n",
        "import copy\n",
        "from torchao.quantization.quant_api import (quantize_, int8_dynamic_activation_int8_weight, int4_weight_only, int8_weight_only)\n",
        "from optimum.quanto import quantize, qint4\n",
        "from torch.amp.autocast_mode import autocast"
      ]
    },
    {
      "cell_type": "markdown",
      "metadata": {
        "id": "9xMtMiPcUUbq"
      },
      "source": [
        "#### Mounting the drive"
      ]
    },
    {
      "cell_type": "code",
      "execution_count": 3,
      "metadata": {
        "colab": {
          "base_uri": "https://localhost:8080/"
        },
        "id": "-Cqcaic0UWmC",
        "outputId": "e52894c3-f2bb-4307-eafd-749ae0909c74"
      },
      "outputs": [
        {
          "output_type": "stream",
          "name": "stdout",
          "text": [
            "Mounted at /content/drive\n"
          ]
        }
      ],
      "source": [
        "from google.colab import drive\n",
        "drive.mount('/content/drive')"
      ]
    },
    {
      "cell_type": "markdown",
      "metadata": {
        "id": "agX89hs3M3j2"
      },
      "source": [
        "Setting the device to use"
      ]
    },
    {
      "cell_type": "code",
      "execution_count": 4,
      "metadata": {
        "id": "OLbmTly7M4zy"
      },
      "outputs": [],
      "source": [
        "device = torch.device(\"cuda\" if torch.cuda.is_available() else \"cpu\")"
      ]
    },
    {
      "cell_type": "markdown",
      "metadata": {
        "id": "tAoom-HdTl_1"
      },
      "source": [
        "#### Loading in the VGG-11 model"
      ]
    },
    {
      "cell_type": "code",
      "execution_count": 5,
      "metadata": {
        "colab": {
          "base_uri": "https://localhost:8080/"
        },
        "id": "0YR1gb6XTl_1",
        "outputId": "18b148d4-c0f3-4d36-b1e8-efd52beee80b"
      },
      "outputs": [
        {
          "output_type": "stream",
          "name": "stderr",
          "text": [
            "Downloading: \"https://download.pytorch.org/models/vgg11-8a719046.pth\" to /root/.cache/torch/hub/checkpoints/vgg11-8a719046.pth\n",
            "100%|██████████| 507M/507M [00:02<00:00, 225MB/s]\n"
          ]
        },
        {
          "output_type": "execute_result",
          "data": {
            "text/plain": [
              "==========================================================================================\n",
              "Layer (type:depth-idx)                   Output Shape              Param #\n",
              "==========================================================================================\n",
              "VGG                                      [1, 100]                  --\n",
              "├─Sequential: 1-1                        [1, 512, 7, 7]            --\n",
              "│    └─Conv2d: 2-1                       [1, 64, 224, 224]         1,792\n",
              "│    └─ReLU: 2-2                         [1, 64, 224, 224]         --\n",
              "│    └─MaxPool2d: 2-3                    [1, 64, 112, 112]         --\n",
              "│    └─Conv2d: 2-4                       [1, 128, 112, 112]        73,856\n",
              "│    └─ReLU: 2-5                         [1, 128, 112, 112]        --\n",
              "│    └─MaxPool2d: 2-6                    [1, 128, 56, 56]          --\n",
              "│    └─Conv2d: 2-7                       [1, 256, 56, 56]          295,168\n",
              "│    └─ReLU: 2-8                         [1, 256, 56, 56]          --\n",
              "│    └─Conv2d: 2-9                       [1, 256, 56, 56]          590,080\n",
              "│    └─ReLU: 2-10                        [1, 256, 56, 56]          --\n",
              "│    └─MaxPool2d: 2-11                   [1, 256, 28, 28]          --\n",
              "│    └─Conv2d: 2-12                      [1, 512, 28, 28]          1,180,160\n",
              "│    └─ReLU: 2-13                        [1, 512, 28, 28]          --\n",
              "│    └─Conv2d: 2-14                      [1, 512, 28, 28]          2,359,808\n",
              "│    └─ReLU: 2-15                        [1, 512, 28, 28]          --\n",
              "│    └─MaxPool2d: 2-16                   [1, 512, 14, 14]          --\n",
              "│    └─Conv2d: 2-17                      [1, 512, 14, 14]          2,359,808\n",
              "│    └─ReLU: 2-18                        [1, 512, 14, 14]          --\n",
              "│    └─Conv2d: 2-19                      [1, 512, 14, 14]          2,359,808\n",
              "│    └─ReLU: 2-20                        [1, 512, 14, 14]          --\n",
              "│    └─MaxPool2d: 2-21                   [1, 512, 7, 7]            --\n",
              "├─AdaptiveAvgPool2d: 1-2                 [1, 512, 7, 7]            --\n",
              "├─Sequential: 1-3                        [1, 100]                  --\n",
              "│    └─Linear: 2-22                      [1, 4096]                 102,764,544\n",
              "│    └─ReLU: 2-23                        [1, 4096]                 --\n",
              "│    └─Dropout: 2-24                     [1, 4096]                 --\n",
              "│    └─Linear: 2-25                      [1, 4096]                 16,781,312\n",
              "│    └─ReLU: 2-26                        [1, 4096]                 --\n",
              "│    └─Dropout: 2-27                     [1, 4096]                 --\n",
              "│    └─Linear: 2-28                      [1, 100]                  409,700\n",
              "==========================================================================================\n",
              "Total params: 129,176,036\n",
              "Trainable params: 129,176,036\n",
              "Non-trainable params: 0\n",
              "Total mult-adds (G): 7.61\n",
              "==========================================================================================\n",
              "Input size (MB): 0.60\n",
              "Forward/backward pass size (MB): 59.47\n",
              "Params size (MB): 516.70\n",
              "Estimated Total Size (MB): 576.78\n",
              "=========================================================================================="
            ]
          },
          "metadata": {},
          "execution_count": 5
        }
      ],
      "source": [
        "# Loading in VGG-11\n",
        "vgg11 = models.vgg11(weights= models.VGG11_Weights.DEFAULT)\n",
        "\n",
        "# Preparing the classifier layer for CIFAR-100 classification\n",
        "vgg11.classifier[6] = nn.Linear(4096, 100)\n",
        "\n",
        "# Summary of VGG-11\n",
        "summary(vgg11, input_size=(1, 3, 224, 224))"
      ]
    },
    {
      "cell_type": "markdown",
      "metadata": {
        "id": "d5MxeVnHUBgz"
      },
      "source": [
        "#### Loading in the CIFAR-100 dataset"
      ]
    },
    {
      "cell_type": "code",
      "execution_count": 6,
      "metadata": {
        "colab": {
          "base_uri": "https://localhost:8080/"
        },
        "id": "Cg0HWOguUEmd",
        "outputId": "13e9c4bc-3354-4cda-9d11-01826df69109"
      },
      "outputs": [
        {
          "output_type": "stream",
          "name": "stdout",
          "text": [
            "Downloading https://www.cs.toronto.edu/~kriz/cifar-100-python.tar.gz to ./data/cifar-100-python.tar.gz\n"
          ]
        },
        {
          "output_type": "stream",
          "name": "stderr",
          "text": [
            "100%|██████████| 169M/169M [00:13<00:00, 12.9MB/s]\n"
          ]
        },
        {
          "output_type": "stream",
          "name": "stdout",
          "text": [
            "Extracting ./data/cifar-100-python.tar.gz to ./data\n",
            "Files already downloaded and verified\n",
            "CIFAR-100 dataset loaded into ./data\n"
          ]
        }
      ],
      "source": [
        "# data_dir = '/content/drive/MyDrive/ATML_PA3'\n",
        "data_dir = './data'\n",
        "\n",
        "# Define transformations (you can modify this as per your needs)\n",
        "transform = transforms.Compose([\n",
        "    transforms.ToTensor(),\n",
        "    transforms.Resize((224, 224)),\n",
        "    transforms.Normalize((0.5071, 0.4867, 0.4408), (0.2675, 0.2565, 0.2761))\n",
        "])\n",
        "\n",
        "# Download and load the CIFAR-100 training set\n",
        "train_dataset = torchvision.datasets.CIFAR100(\n",
        "    root=data_dir,  # Path where the data should be downloaded\n",
        "    train=True,\n",
        "    download=True,\n",
        "    transform=transform\n",
        ")\n",
        "\n",
        "# Download and load the CIFAR-100 test set\n",
        "test_dataset = torchvision.datasets.CIFAR100(\n",
        "    root=data_dir,  # Path where the data should be downloaded\n",
        "    train=False,\n",
        "    download=True,\n",
        "    transform=transform\n",
        ")\n",
        "\n",
        "# Create data loaders\n",
        "train_loader = torch.utils.data.DataLoader(train_dataset, batch_size=64, shuffle=True)\n",
        "test_loader = torch.utils.data.DataLoader(test_dataset, batch_size=64, shuffle=False)\n",
        "\n",
        "print(\"CIFAR-100 dataset loaded into\", data_dir)"
      ]
    },
    {
      "cell_type": "markdown",
      "metadata": {
        "id": "-I_YrqUxkCew"
      },
      "source": [
        "### Finetuning the Model for 5 epochs\n",
        "\n"
      ]
    },
    {
      "cell_type": "markdown",
      "metadata": {
        "id": "RE37c6XckCex"
      },
      "source": [
        "#### Freezing the classifier backbone"
      ]
    },
    {
      "cell_type": "code",
      "execution_count": null,
      "metadata": {
        "colab": {
          "base_uri": "https://localhost:8080/"
        },
        "id": "OzrTEdk8kCex",
        "outputId": "2ee5df16-139f-48ac-d1f2-ec7fb179b69c"
      },
      "outputs": [
        {
          "output_type": "execute_result",
          "data": {
            "text/plain": [
              "==========================================================================================\n",
              "Layer (type:depth-idx)                   Output Shape              Param #\n",
              "==========================================================================================\n",
              "VGG                                      [1, 100]                  --\n",
              "├─Sequential: 1-1                        [1, 512, 7, 7]            --\n",
              "│    └─Conv2d: 2-1                       [1, 64, 224, 224]         (1,792)\n",
              "│    └─ReLU: 2-2                         [1, 64, 224, 224]         --\n",
              "│    └─MaxPool2d: 2-3                    [1, 64, 112, 112]         --\n",
              "│    └─Conv2d: 2-4                       [1, 128, 112, 112]        (73,856)\n",
              "│    └─ReLU: 2-5                         [1, 128, 112, 112]        --\n",
              "│    └─MaxPool2d: 2-6                    [1, 128, 56, 56]          --\n",
              "│    └─Conv2d: 2-7                       [1, 256, 56, 56]          (295,168)\n",
              "│    └─ReLU: 2-8                         [1, 256, 56, 56]          --\n",
              "│    └─Conv2d: 2-9                       [1, 256, 56, 56]          (590,080)\n",
              "│    └─ReLU: 2-10                        [1, 256, 56, 56]          --\n",
              "│    └─MaxPool2d: 2-11                   [1, 256, 28, 28]          --\n",
              "│    └─Conv2d: 2-12                      [1, 512, 28, 28]          (1,180,160)\n",
              "│    └─ReLU: 2-13                        [1, 512, 28, 28]          --\n",
              "│    └─Conv2d: 2-14                      [1, 512, 28, 28]          (2,359,808)\n",
              "│    └─ReLU: 2-15                        [1, 512, 28, 28]          --\n",
              "│    └─MaxPool2d: 2-16                   [1, 512, 14, 14]          --\n",
              "│    └─Conv2d: 2-17                      [1, 512, 14, 14]          (2,359,808)\n",
              "│    └─ReLU: 2-18                        [1, 512, 14, 14]          --\n",
              "│    └─Conv2d: 2-19                      [1, 512, 14, 14]          (2,359,808)\n",
              "│    └─ReLU: 2-20                        [1, 512, 14, 14]          --\n",
              "│    └─MaxPool2d: 2-21                   [1, 512, 7, 7]            --\n",
              "├─AdaptiveAvgPool2d: 1-2                 [1, 512, 7, 7]            --\n",
              "├─Sequential: 1-3                        [1, 100]                  --\n",
              "│    └─Linear: 2-22                      [1, 4096]                 (102,764,544)\n",
              "│    └─ReLU: 2-23                        [1, 4096]                 --\n",
              "│    └─Dropout: 2-24                     [1, 4096]                 --\n",
              "│    └─Linear: 2-25                      [1, 4096]                 (16,781,312)\n",
              "│    └─ReLU: 2-26                        [1, 4096]                 --\n",
              "│    └─Dropout: 2-27                     [1, 4096]                 --\n",
              "│    └─Linear: 2-28                      [1, 100]                  409,700\n",
              "==========================================================================================\n",
              "Total params: 129,176,036\n",
              "Trainable params: 409,700\n",
              "Non-trainable params: 128,766,336\n",
              "Total mult-adds (G): 7.61\n",
              "==========================================================================================\n",
              "Input size (MB): 0.60\n",
              "Forward/backward pass size (MB): 59.47\n",
              "Params size (MB): 516.70\n",
              "Estimated Total Size (MB): 576.78\n",
              "=========================================================================================="
            ]
          },
          "metadata": {},
          "execution_count": 10
        }
      ],
      "source": [
        "# Freezing the model backbone\n",
        "for param in vgg11.parameters():\n",
        "    param.requires_grad = False\n",
        "\n",
        "# Replacing the classifier head for CIFAR-100 classification\n",
        "vgg11.classifier[6] = nn.Linear(4096, 100)\n",
        "\n",
        "# Unfreezing the last layer in the classifier head\n",
        "for param in vgg11.classifier[6].parameters():\n",
        "    param.requires_grad = True\n",
        "\n",
        "# Confirming the model is unfrozen\n",
        "summary(vgg11, input_size=(1, 3, 224, 224))\n",
        "\n",
        "# trainable_params = sum(p.numel() for p in vgg11.parameters() if p.requires_grad)\n",
        "# print(f\"Trainable parameters: {trainable_params}\")\n"
      ]
    },
    {
      "cell_type": "markdown",
      "metadata": {
        "id": "eG7pvuvokCex"
      },
      "source": [
        "#### Finetuning the modified model"
      ]
    },
    {
      "cell_type": "code",
      "execution_count": null,
      "metadata": {
        "colab": {
          "base_uri": "https://localhost:8080/"
        },
        "id": "JU8tdJ6qkCex",
        "outputId": "253fb2a2-6f37-418c-8174-8cda26e58a03"
      },
      "outputs": [
        {
          "output_type": "stream",
          "name": "stderr",
          "text": [
            "100%|██████████| 782/782 [03:05<00:00,  4.20it/s]\n"
          ]
        },
        {
          "output_type": "stream",
          "name": "stdout",
          "text": [
            "Epoch 1, Training Loss: 1.9600570601270633, Training Accuracy: 47.622\n"
          ]
        },
        {
          "output_type": "stream",
          "name": "stderr",
          "text": [
            "100%|██████████| 157/157 [00:37<00:00,  4.24it/s]\n"
          ]
        },
        {
          "output_type": "stream",
          "name": "stdout",
          "text": [
            "Epoch 1, Test Loss: 1.4580630572738162, Test Accuracy: 58.34\n"
          ]
        },
        {
          "output_type": "stream",
          "name": "stderr",
          "text": [
            "100%|██████████| 782/782 [03:07<00:00,  4.18it/s]\n"
          ]
        },
        {
          "output_type": "stream",
          "name": "stdout",
          "text": [
            "Epoch 2, Training Loss: 1.6380248533947694, Training Accuracy: 54.71\n"
          ]
        },
        {
          "output_type": "stream",
          "name": "stderr",
          "text": [
            "100%|██████████| 157/157 [00:37<00:00,  4.22it/s]\n"
          ]
        },
        {
          "output_type": "stream",
          "name": "stdout",
          "text": [
            "Epoch 2, Test Loss: 1.382804438566706, Test Accuracy: 60.32\n"
          ]
        },
        {
          "output_type": "stream",
          "name": "stderr",
          "text": [
            "100%|██████████| 782/782 [03:05<00:00,  4.21it/s]\n"
          ]
        },
        {
          "output_type": "stream",
          "name": "stdout",
          "text": [
            "Epoch 3, Training Loss: 1.5717946741434619, Training Accuracy: 56.586\n"
          ]
        },
        {
          "output_type": "stream",
          "name": "stderr",
          "text": [
            "100%|██████████| 157/157 [00:37<00:00,  4.24it/s]\n"
          ]
        },
        {
          "output_type": "stream",
          "name": "stdout",
          "text": [
            "Epoch 3, Test Loss: 1.367748185327858, Test Accuracy: 61.53\n"
          ]
        },
        {
          "output_type": "stream",
          "name": "stderr",
          "text": [
            "100%|██████████| 782/782 [03:05<00:00,  4.21it/s]\n"
          ]
        },
        {
          "output_type": "stream",
          "name": "stdout",
          "text": [
            "Epoch 4, Training Loss: 1.5450494482998958, Training Accuracy: 57.578\n"
          ]
        },
        {
          "output_type": "stream",
          "name": "stderr",
          "text": [
            "100%|██████████| 157/157 [00:37<00:00,  4.23it/s]\n"
          ]
        },
        {
          "output_type": "stream",
          "name": "stdout",
          "text": [
            "Epoch 4, Test Loss: 1.396505104888017, Test Accuracy: 60.89\n"
          ]
        },
        {
          "output_type": "stream",
          "name": "stderr",
          "text": [
            "100%|██████████| 782/782 [03:07<00:00,  4.18it/s]\n"
          ]
        },
        {
          "output_type": "stream",
          "name": "stdout",
          "text": [
            "Epoch 5, Training Loss: 1.5171778877372937, Training Accuracy: 58.438\n"
          ]
        },
        {
          "output_type": "stream",
          "name": "stderr",
          "text": [
            "100%|██████████| 157/157 [00:37<00:00,  4.22it/s]"
          ]
        },
        {
          "output_type": "stream",
          "name": "stdout",
          "text": [
            "Epoch 5, Test Loss: 1.3678201175039741, Test Accuracy: 61.85\n"
          ]
        },
        {
          "output_type": "stream",
          "name": "stderr",
          "text": [
            "\n"
          ]
        }
      ],
      "source": [
        "# Finetuning the model on the CIFAR-100 dataset for 3 epochs\n",
        "vgg11.to(device)\n",
        "criterion = nn.CrossEntropyLoss()\n",
        "optimizer = optim.Adam(vgg11.parameters(), lr=0.001)\n",
        "\n",
        "# Training the model\n",
        "num_epochs = 5\n",
        "train_losses = []\n",
        "test_losses = []\n",
        "train_acc = []\n",
        "\n",
        "for epoch in range(num_epochs):\n",
        "    vgg11.train()\n",
        "    running_loss = 0.0\n",
        "    correct = 0\n",
        "    total = 0\n",
        "    for i, data in enumerate(tqdm(train_loader)):\n",
        "        inputs, labels = data\n",
        "        inputs, labels = inputs.to(device), labels.to(device)\n",
        "        optimizer.zero_grad()\n",
        "        outputs = vgg11(inputs)\n",
        "        loss = criterion(outputs, labels)\n",
        "        loss.backward()\n",
        "        optimizer.step()\n",
        "        running_loss += loss.item()\n",
        "        _, predicted = outputs.max(1)\n",
        "        total += labels.size(0)\n",
        "        correct += predicted.eq(labels).sum().item()\n",
        "    train_losses.append(running_loss / len(train_loader))\n",
        "    train_acc.append(100 * correct / total)\n",
        "    print(f\"Epoch {epoch + 1}, Training Loss: {running_loss / len(train_loader)}, Training Accuracy: {100 * correct / total}\")\n",
        "\n",
        "    vgg11.eval()\n",
        "    running_loss = 0.0\n",
        "    correct = 0\n",
        "    total = 0\n",
        "    with torch.no_grad():\n",
        "        for i, data in enumerate(tqdm(test_loader)):\n",
        "            inputs, labels = data\n",
        "            inputs, labels = inputs.to(device), labels.to(device)\n",
        "            outputs = vgg11(inputs)\n",
        "            loss = criterion(outputs, labels)\n",
        "            running_loss += loss.item()\n",
        "            _, predicted = outputs.max(1)\n",
        "            total += labels.size(0)\n",
        "            correct += predicted.eq(labels).sum().item()\n",
        "        test_losses.append(running_loss / len(test_loader))\n",
        "        print(f\"Epoch {epoch + 1}, Test Loss: {running_loss / len(test_loader)}, Test Accuracy: {100 * correct / total}\")"
      ]
    },
    {
      "cell_type": "markdown",
      "metadata": {
        "id": "W36AeSdQkCey"
      },
      "source": [
        "#### Saving the finetuned model"
      ]
    },
    {
      "cell_type": "code",
      "execution_count": null,
      "metadata": {
        "colab": {
          "base_uri": "https://localhost:8080/"
        },
        "id": "yvUkTDyAkCey",
        "outputId": "4879aa1c-2e76-499a-cff0-8118189b26a2"
      },
      "outputs": [
        {
          "output_type": "stream",
          "name": "stdout",
          "text": [
            "Model saved to /content/drive/MyDrive/ATML_PA3/vgg11_cifar100.pth\n"
          ]
        }
      ],
      "source": [
        "# Saving the model\n",
        "save_dir = '/content/drive/MyDrive/ATML_PA3/'  # Example directory, replace as needed\n",
        "save_path = os.path.join(save_dir, 'vgg11_cifar100.pth')\n",
        "torch.save(vgg11, save_path)\n",
        "print(f\"Model saved to {save_path}\")"
      ]
    },
    {
      "cell_type": "markdown",
      "metadata": {
        "id": "RL4SxfC2kCey"
      },
      "source": [
        "#### Plotting the testing and training losses"
      ]
    },
    {
      "cell_type": "code",
      "execution_count": null,
      "metadata": {
        "colab": {
          "base_uri": "https://localhost:8080/",
          "height": 585
        },
        "id": "0pTCpRlHkCey",
        "outputId": "c282c86b-bc0c-4090-d6a1-e8d4e1ed7aea"
      },
      "outputs": [
        {
          "output_type": "display_data",
          "data": {
            "text/plain": [
              "<Figure size 1000x700 with 1 Axes>"
            ],
            "image/png": "[encoded data removed]"
          },
          "metadata": {}
        }
      ],
      "source": [
        "# Plotting the training and test losses over epochs\n",
        "plt.figure(figsize=(10, 7))\n",
        "plt.plot(train_losses, label=\"Training Loss\")\n",
        "plt.plot(test_losses, label=\"Test Loss\")\n",
        "plt.xlabel(\"Epochs\")\n",
        "plt.ylabel(\"Loss\")\n",
        "plt.legend()\n",
        "plt.show()"
      ]
    },
    {
      "cell_type": "markdown",
      "source": [
        "#### Loading in the model using the pth file"
      ],
      "metadata": {
        "id": "ibxLtXEZMaWB"
      }
    },
    {
      "cell_type": "code",
      "source": [
        "# Load the saved model\n",
        "model_path = '/content/drive/MyDrive/vgg11_cifar100.pth'\n",
        "finetuned_model = torch.load(model_path)\n",
        "# finetuned_model.eval()"
      ],
      "metadata": {
        "colab": {
          "base_uri": "https://localhost:8080/"
        },
        "id": "Ovt1uq9RMcP3",
        "outputId": "63bf5938-ad33-4135-d0b2-e2bf95cdb71a"
      },
      "execution_count": 7,
      "outputs": [
        {
          "output_type": "stream",
          "name": "stderr",
          "text": [
            "<ipython-input-7-bfc888ea7759>:3: FutureWarning: You are using `torch.load` with `weights_only=False` (the current default value), which uses the default pickle module implicitly. It is possible to construct malicious pickle data which will execute arbitrary code during unpickling (See https://github.com/pytorch/pytorch/blob/main/SECURITY.md#untrusted-models for more details). In a future release, the default value for `weights_only` will be flipped to `True`. This limits the functions that could be executed during unpickling. Arbitrary objects will no longer be allowed to be loaded via this mode unless they are explicitly allowlisted by the user via `torch.serialization.add_safe_globals`. We recommend you start setting `weights_only=True` for any use case where you don't have full control of the loaded file. Please open an issue on GitHub for any issues related to this experimental feature.\n",
            "  finetuned_model = torch.load(model_path)\n"
          ]
        }
      ]
    },
    {
      "cell_type": "markdown",
      "metadata": {
        "id": "idMGzKKdVyAg"
      },
      "source": [
        "### Post Training Quantization"
      ]
    },
    {
      "cell_type": "markdown",
      "metadata": {
        "id": "sI-NEc-5V0fk"
      },
      "source": [
        "#### PTQ with FP16 bit width"
      ]
    },
    {
      "cell_type": "code",
      "execution_count": null,
      "metadata": {
        "colab": {
          "base_uri": "https://localhost:8080/"
        },
        "id": "35wupZx2V6HT",
        "outputId": "cc99cc4e-d88b-4d22-9940-18a30e26eb63"
      },
      "outputs": [
        {
          "output_type": "execute_result",
          "data": {
            "text/plain": [
              "==========================================================================================\n",
              "Layer (type:depth-idx)                   Output Shape              Param #\n",
              "==========================================================================================\n",
              "VGG                                      [1, 100]                  --\n",
              "├─Sequential: 1-1                        [1, 512, 7, 7]            --\n",
              "│    └─Conv2d: 2-1                       [1, 64, 224, 224]         (1,792)\n",
              "│    └─ReLU: 2-2                         [1, 64, 224, 224]         --\n",
              "│    └─MaxPool2d: 2-3                    [1, 64, 112, 112]         --\n",
              "│    └─Conv2d: 2-4                       [1, 128, 112, 112]        (73,856)\n",
              "│    └─ReLU: 2-5                         [1, 128, 112, 112]        --\n",
              "│    └─MaxPool2d: 2-6                    [1, 128, 56, 56]          --\n",
              "│    └─Conv2d: 2-7                       [1, 256, 56, 56]          (295,168)\n",
              "│    └─ReLU: 2-8                         [1, 256, 56, 56]          --\n",
              "│    └─Conv2d: 2-9                       [1, 256, 56, 56]          (590,080)\n",
              "│    └─ReLU: 2-10                        [1, 256, 56, 56]          --\n",
              "│    └─MaxPool2d: 2-11                   [1, 256, 28, 28]          --\n",
              "│    └─Conv2d: 2-12                      [1, 512, 28, 28]          (1,180,160)\n",
              "│    └─ReLU: 2-13                        [1, 512, 28, 28]          --\n",
              "│    └─Conv2d: 2-14                      [1, 512, 28, 28]          (2,359,808)\n",
              "│    └─ReLU: 2-15                        [1, 512, 28, 28]          --\n",
              "│    └─MaxPool2d: 2-16                   [1, 512, 14, 14]          --\n",
              "│    └─Conv2d: 2-17                      [1, 512, 14, 14]          (2,359,808)\n",
              "│    └─ReLU: 2-18                        [1, 512, 14, 14]          --\n",
              "│    └─Conv2d: 2-19                      [1, 512, 14, 14]          (2,359,808)\n",
              "│    └─ReLU: 2-20                        [1, 512, 14, 14]          --\n",
              "│    └─MaxPool2d: 2-21                   [1, 512, 7, 7]            --\n",
              "├─AdaptiveAvgPool2d: 1-2                 [1, 512, 7, 7]            --\n",
              "├─Sequential: 1-3                        [1, 100]                  --\n",
              "│    └─Linear: 2-22                      [1, 4096]                 (102,764,544)\n",
              "│    └─ReLU: 2-23                        [1, 4096]                 --\n",
              "│    └─Dropout: 2-24                     [1, 4096]                 --\n",
              "│    └─Linear: 2-25                      [1, 4096]                 (16,781,312)\n",
              "│    └─ReLU: 2-26                        [1, 4096]                 --\n",
              "│    └─Dropout: 2-27                     [1, 4096]                 --\n",
              "│    └─Linear: 2-28                      [1, 100]                  409,700\n",
              "==========================================================================================\n",
              "Total params: 129,176,036\n",
              "Trainable params: 409,700\n",
              "Non-trainable params: 128,766,336\n",
              "Total mult-adds (G): 7.61\n",
              "==========================================================================================\n",
              "Input size (MB): 0.30\n",
              "Forward/backward pass size (MB): 29.74\n",
              "Params size (MB): 258.35\n",
              "Estimated Total Size (MB): 288.39\n",
              "=========================================================================================="
            ]
          },
          "metadata": {},
          "execution_count": 10
        }
      ],
      "source": [
        "# Quantizing with FP16 bit width by simply casting to this data type\n",
        "# Creating a deep copy of the model to keep the original intact\n",
        "# quantized_model_fp16 = copy.deepcopy(vgg11)\n",
        "quantized_model_fp16 = copy.deepcopy(finetuned_model)\n",
        "\n",
        "# Casting the model to float16\n",
        "quantized_model_fp16 = quantized_model_fp16.to(dtype=torch.float16)\n",
        "\n",
        "# Printing the model summary following quanitzation\n",
        "summary(quantized_model_fp16, input_size=(1, 3, 224, 224), dtypes=[torch.float16])"
      ]
    },
    {
      "cell_type": "markdown",
      "metadata": {
        "id": "vQ9x8rJ5alhG"
      },
      "source": [
        "#### Testing the quantized model"
      ]
    },
    {
      "cell_type": "code",
      "execution_count": null,
      "metadata": {
        "colab": {
          "base_uri": "https://localhost:8080/"
        },
        "id": "_1PbzegJanjV",
        "outputId": "0a2b21f4-9d6e-4c2c-9009-cfc01008a6ec"
      },
      "outputs": [
        {
          "output_type": "stream",
          "name": "stderr",
          "text": [
            "                                                                           "
          ]
        },
        {
          "output_type": "stream",
          "name": "stdout",
          "text": [
            "Original Accuracy: 61.85000000000001\n",
            "Quantized Accuracy: 61.88\n"
          ]
        },
        {
          "output_type": "stream",
          "name": "stderr",
          "text": [
            "\r"
          ]
        }
      ],
      "source": [
        "# Evaluate the quantized model\n",
        "def evaluate_normal_vgg11(model, dataloader):\n",
        "    \"\"\"Evaluates the normal (float32) VGG11 model.\n",
        "\n",
        "    Args:\n",
        "        model: The normal VGG11 model.\n",
        "        dataloader: The dataloader for the evaluation data.\n",
        "\n",
        "    Returns:\n",
        "        The accuracy of the model on the evaluation data.\n",
        "    \"\"\"\n",
        "    model.eval()\n",
        "    correct = 0\n",
        "    total = 0\n",
        "    with torch.no_grad():\n",
        "        for images, labels in tqdm(dataloader, desc=\"Evaluating Normal VGG11\", leave=False):\n",
        "            images = images.to(device)  # Move images to device\n",
        "            labels = labels.to(device)  # Move labels to device\n",
        "\n",
        "\n",
        "            outputs = model(images)  # Perform forward pass\n",
        "            _, predicted = torch.max(outputs, 1)\n",
        "            total += labels.size(0)\n",
        "            correct += (predicted == labels).sum().item()\n",
        "\n",
        "    accuracy = 100 * (correct / total)\n",
        "    return accuracy\n",
        "\n",
        "def evaluate_float16_vgg11(model, dataloader):\n",
        "    \"\"\"Evaluates the float16 quantized VGG11 model.\n",
        "\n",
        "    Args:\n",
        "        model: The float16 quantized VGG11 model.\n",
        "        dataloader: The dataloader for the evaluation data.\n",
        "\n",
        "    Returns:\n",
        "        The accuracy of the model on the evaluation data.\n",
        "    \"\"\"\n",
        "    model.eval()\n",
        "    correct = 0\n",
        "    total = 0\n",
        "    with torch.no_grad():\n",
        "        for images, labels in tqdm(dataloader, desc=\"Evaluating Float16 VGG11\", leave=False):\n",
        "            images = images.to(device)  # Move images to device\n",
        "            labels = labels.to(device)  # Move labels to device\n",
        "\n",
        "            images = images.to(dtype = torch.float16)  # Cast images to float16\n",
        "\n",
        "            outputs = model(images)  # Perform forward pass\n",
        "            _, predicted = torch.max(outputs.data, 1)\n",
        "            total += labels.size(0)\n",
        "            correct += (predicted == labels).sum().item()\n",
        "\n",
        "    accuracy = 100 * (correct / total)\n",
        "    return accuracy\n",
        "\n",
        "def evaluate_model_float16_test(model, test_loader, criterion, device):\n",
        "\n",
        "    model.eval()\n",
        "    total_correct = 0\n",
        "    total_samples = 0\n",
        "    running_loss = 0.0\n",
        "    all_preds = []\n",
        "    all_labels = []\n",
        "\n",
        "    with torch.no_grad():\n",
        "        for inputs, labels in tqdm(test_loader, desc=\"Evaluating\", unit=\"batch\"):\n",
        "            inputs, labels = inputs.to(device), labels.to(device)\n",
        "            inputs = inputs.to(torch.float16)\n",
        "\n",
        "            # Forward pass\n",
        "            outputs = model(inputs)\n",
        "            loss = criterion(outputs, labels)\n",
        "            running_loss += loss.item()\n",
        "\n",
        "            # Get predictions and accumulate them\n",
        "            _, predicted = torch.max(outputs, 1)\n",
        "            total_correct += (predicted == labels).sum().item()\n",
        "            total_samples += labels.size(0)\n",
        "\n",
        "            # Collect predictions and labels\n",
        "            all_preds.extend(predicted.cpu().numpy())\n",
        "            all_labels.extend(labels.cpu().numpy())\n",
        "\n",
        "    accuracy = 100 * total_correct / total_samples\n",
        "    average_loss = running_loss / len(test_loader)\n",
        "    print(f\"Test Loss: {average_loss:.4f}, Test Accuracy: {accuracy:.2f}%\")\n",
        "    return accuracy, average_loss, all_preds, all_labels\n",
        "\n",
        "# Send models to the correct device\n",
        "quantized_model_fp16 = quantized_model_fp16.to(device)\n",
        "# vgg11 = vgg11.to(device)\n",
        "finetuned_model = finetuned_model.to(device)\n",
        "\n",
        "# Evaluating both of the models\n",
        "original_acc = evaluate_normal_vgg11(finetuned_model, test_loader)\n",
        "fp16_quantized_acc = evaluate_float16_vgg11(quantized_model_fp16, test_loader)\n",
        "\n",
        "print(\"Original Accuracy:\", original_acc)\n",
        "print(\"Quantized Accuracy:\", fp16_quantized_acc)\n"
      ]
    },
    {
      "cell_type": "markdown",
      "metadata": {
        "id": "LpuZR1tc1GJU"
      },
      "source": [
        "#### QAT with the FP16 quantized model"
      ]
    },
    {
      "cell_type": "code",
      "execution_count": null,
      "metadata": {
        "colab": {
          "base_uri": "https://localhost:8080/"
        },
        "id": "g27l1KbN1Kn_",
        "outputId": "d0ad84f6-e3b2-4679-9cc6-ece4240a3aee"
      },
      "outputs": [
        {
          "output_type": "stream",
          "name": "stderr",
          "text": []
        },
        {
          "output_type": "stream",
          "name": "stdout",
          "text": [
            "Epoch [1/3], Average Loss: 1.3243\n"
          ]
        },
        {
          "output_type": "stream",
          "name": "stderr",
          "text": []
        },
        {
          "output_type": "stream",
          "name": "stdout",
          "text": [
            "Epoch [2/3], Average Loss: 1.2845\n"
          ]
        },
        {
          "output_type": "stream",
          "name": "stderr",
          "text": []
        },
        {
          "output_type": "stream",
          "name": "stdout",
          "text": [
            "Epoch [3/3], Average Loss: 1.2561\n"
          ]
        },
        {
          "output_type": "stream",
          "name": "stderr",
          "text": [
            "                                                                           "
          ]
        },
        {
          "output_type": "stream",
          "name": "stdout",
          "text": [
            "Final Accuracy after QAT: 64.31%\n"
          ]
        },
        {
          "output_type": "stream",
          "name": "stderr",
          "text": [
            "\r"
          ]
        }
      ],
      "source": [
        "# Move model to device\n",
        "quantized_model_fp16 = quantized_model_fp16.to(device)\n",
        "\n",
        "# Define loss function and optimizer\n",
        "# criterion = nn.CrossEntropyLoss()\n",
        "# optimizer = optim.Adam(quantized_model_fp16.parameters(), lr=0.01)\n",
        "num_epochs = 3  # Adjust based on performance needs\n",
        "criterion = nn.CrossEntropyLoss()\n",
        "optimizer = optim.SGD(quantized_model_fp16.parameters(), lr=0.01, momentum=0.9, weight_decay=5e-4)\n",
        "\n",
        "for epoch in range(num_epochs):\n",
        "    quantized_model_fp16.train()\n",
        "    running_loss = 0.0\n",
        "\n",
        "    for batch_idx, (images, labels) in enumerate(tqdm(train_loader, desc=f\"Epoch {epoch+1}/{num_epochs}\", leave=False)):\n",
        "        images, labels = images.to(device), labels.to(device)  # Only move to GPU\n",
        "\n",
        "        images = images.to(dtype = torch.float16)  # Cast images to float16\n",
        "\n",
        "        optimizer.zero_grad()\n",
        "\n",
        "\n",
        "        outputs = quantized_model_fp16(images)\n",
        "\n",
        "        loss = criterion(outputs, labels)\n",
        "\n",
        "        # Backpropagation\n",
        "        loss.backward()\n",
        "\n",
        "        # Gradient clipping\n",
        "        nn.utils.clip_grad_norm_(quantized_model_fp16.parameters(), max_norm=0.5)\n",
        "\n",
        "        optimizer.step()\n",
        "\n",
        "        running_loss += loss.item()\n",
        "\n",
        "    # Print the average loss for the epoch\n",
        "    print(f\"Epoch [{epoch+1}/{num_epochs}], Average Loss: {running_loss/len(train_loader):.4f}\")\n",
        "\n",
        "# Final evaluation after fine-tuning\n",
        "final_accuracy = evaluate_float16_vgg11(quantized_model_fp16, test_loader)\n",
        "print(f\"Final Accuracy after QAT: {final_accuracy}%\")\n"
      ]
    },
    {
      "cell_type": "markdown",
      "metadata": {
        "id": "U_jodRG5TIZW"
      },
      "source": [
        "#### PTQ with BF16 bit width"
      ]
    },
    {
      "cell_type": "code",
      "execution_count": null,
      "metadata": {
        "colab": {
          "base_uri": "https://localhost:8080/"
        },
        "id": "intWKXc2TNqD",
        "outputId": "173dfd82-bfa3-4863-fcd4-0a6153ffc551"
      },
      "outputs": [
        {
          "output_type": "execute_result",
          "data": {
            "text/plain": [
              "==========================================================================================\n",
              "Layer (type:depth-idx)                   Output Shape              Param #\n",
              "==========================================================================================\n",
              "VGG                                      [1, 100]                  --\n",
              "├─Sequential: 1-1                        [1, 512, 7, 7]            --\n",
              "│    └─Conv2d: 2-1                       [1, 64, 224, 224]         (1,792)\n",
              "│    └─ReLU: 2-2                         [1, 64, 224, 224]         --\n",
              "│    └─MaxPool2d: 2-3                    [1, 64, 112, 112]         --\n",
              "│    └─Conv2d: 2-4                       [1, 128, 112, 112]        (73,856)\n",
              "│    └─ReLU: 2-5                         [1, 128, 112, 112]        --\n",
              "│    └─MaxPool2d: 2-6                    [1, 128, 56, 56]          --\n",
              "│    └─Conv2d: 2-7                       [1, 256, 56, 56]          (295,168)\n",
              "│    └─ReLU: 2-8                         [1, 256, 56, 56]          --\n",
              "│    └─Conv2d: 2-9                       [1, 256, 56, 56]          (590,080)\n",
              "│    └─ReLU: 2-10                        [1, 256, 56, 56]          --\n",
              "│    └─MaxPool2d: 2-11                   [1, 256, 28, 28]          --\n",
              "│    └─Conv2d: 2-12                      [1, 512, 28, 28]          (1,180,160)\n",
              "│    └─ReLU: 2-13                        [1, 512, 28, 28]          --\n",
              "│    └─Conv2d: 2-14                      [1, 512, 28, 28]          (2,359,808)\n",
              "│    └─ReLU: 2-15                        [1, 512, 28, 28]          --\n",
              "│    └─MaxPool2d: 2-16                   [1, 512, 14, 14]          --\n",
              "│    └─Conv2d: 2-17                      [1, 512, 14, 14]          (2,359,808)\n",
              "│    └─ReLU: 2-18                        [1, 512, 14, 14]          --\n",
              "│    └─Conv2d: 2-19                      [1, 512, 14, 14]          (2,359,808)\n",
              "│    └─ReLU: 2-20                        [1, 512, 14, 14]          --\n",
              "│    └─MaxPool2d: 2-21                   [1, 512, 7, 7]            --\n",
              "├─AdaptiveAvgPool2d: 1-2                 [1, 512, 7, 7]            --\n",
              "├─Sequential: 1-3                        [1, 100]                  --\n",
              "│    └─Linear: 2-22                      [1, 4096]                 (102,764,544)\n",
              "│    └─ReLU: 2-23                        [1, 4096]                 --\n",
              "│    └─Dropout: 2-24                     [1, 4096]                 --\n",
              "│    └─Linear: 2-25                      [1, 4096]                 (16,781,312)\n",
              "│    └─ReLU: 2-26                        [1, 4096]                 --\n",
              "│    └─Dropout: 2-27                     [1, 4096]                 --\n",
              "│    └─Linear: 2-28                      [1, 100]                  409,700\n",
              "==========================================================================================\n",
              "Total params: 129,176,036\n",
              "Trainable params: 409,700\n",
              "Non-trainable params: 128,766,336\n",
              "Total mult-adds (G): 7.61\n",
              "==========================================================================================\n",
              "Input size (MB): 0.30\n",
              "Forward/backward pass size (MB): 29.74\n",
              "Params size (MB): 258.35\n",
              "Estimated Total Size (MB): 288.39\n",
              "=========================================================================================="
            ]
          },
          "metadata": {},
          "execution_count": 13
        }
      ],
      "source": [
        "# Now casting the model to BF16 width for quantization\n",
        "# quantized_model_bf16 = copy.deepcopy(vgg11).to(dtype=torch.bfloat16)\n",
        "# quantized_model_bf16 = copy.deepcopy(vgg11)\n",
        "quantized_model_bf16 = copy.deepcopy(finetuned_model)\n",
        "quantized_model_bf16 = quantized_model_bf16.to(dtype=torch.bfloat16)\n",
        "\n",
        "# Printing the model summary following quanitzation\n",
        "summary(quantized_model_bf16, input_size=(1, 3, 224, 224), dtypes=[torch.bfloat16])"
      ]
    },
    {
      "cell_type": "markdown",
      "metadata": {
        "id": "MNkrxunjT9OR"
      },
      "source": [
        "#### Testing the quantized BF16 model"
      ]
    },
    {
      "cell_type": "code",
      "execution_count": null,
      "metadata": {
        "colab": {
          "base_uri": "https://localhost:8080/"
        },
        "id": "gGV0Oo0JUAPo",
        "outputId": "2a092b9b-b98c-46de-c8fb-9d4092a0bb78"
      },
      "outputs": [
        {
          "output_type": "stream",
          "name": "stderr",
          "text": [
            "                                                                            "
          ]
        },
        {
          "output_type": "stream",
          "name": "stdout",
          "text": [
            "BF16 Quantized Accuracy: 61.980000000000004\n"
          ]
        },
        {
          "output_type": "stream",
          "name": "stderr",
          "text": [
            "\r"
          ]
        }
      ],
      "source": [
        "def evaluate_bfloat16_vgg11(model, dataloader):\n",
        "    \"\"\"Evaluates the bfloat16 quantized VGG11 model.\n",
        "\n",
        "    Args:\n",
        "        model: The bfloat16 quantized VGG11 model.\n",
        "        dataloader: The dataloader for the evaluation data.\n",
        "\n",
        "    Returns:\n",
        "        The accuracy of the model on the evaluation data.\n",
        "    \"\"\"\n",
        "    model.eval()\n",
        "    correct = 0\n",
        "    total = 0\n",
        "    with torch.no_grad():\n",
        "        for images, labels in tqdm(dataloader, desc=\"Evaluating BFloat16 VGG11\", leave=False):\n",
        "            images = images.to(device)  # Move images to device\n",
        "            labels = labels.to(device)  # Move labels to device\n",
        "\n",
        "            # Cast images to bfloat16\n",
        "            images = images.bfloat16()\n",
        "\n",
        "            outputs = model(images)  # Perform forward pass\n",
        "            _, predicted = torch.max(outputs.data, 1)\n",
        "            total += labels.size(0)\n",
        "            correct += (predicted == labels).sum().item()\n",
        "\n",
        "    accuracy = 100 * (correct / total)\n",
        "    return accuracy\n",
        "\n",
        "# Testing with the bf16 quantized model\n",
        "bf16_quantized_acc = evaluate_bfloat16_vgg11(quantized_model_bf16, test_loader)\n",
        "print(\"BF16 Quantized Accuracy:\", bf16_quantized_acc)"
      ]
    },
    {
      "cell_type": "markdown",
      "metadata": {
        "id": "Q6tbfcz3GbNM"
      },
      "source": [
        "#### QAT with the BF16 quantized model"
      ]
    },
    {
      "cell_type": "code",
      "execution_count": null,
      "metadata": {
        "colab": {
          "base_uri": "https://localhost:8080/"
        },
        "id": "_v1Proa2Gdgi",
        "outputId": "29d896f0-fe8c-47f3-be77-d7b548f731ae"
      },
      "outputs": [
        {
          "output_type": "stream",
          "name": "stderr",
          "text": []
        },
        {
          "output_type": "stream",
          "name": "stdout",
          "text": [
            "Epoch [1/3], Average Loss: 1.4064, Training Accuracy: 60.54%\n",
            "Epoch [1/3], Test Accuracy: 61.98%\n",
            "\n"
          ]
        },
        {
          "output_type": "stream",
          "name": "stderr",
          "text": []
        },
        {
          "output_type": "stream",
          "name": "stdout",
          "text": [
            "Epoch [2/3], Average Loss: 1.4013, Training Accuracy: 60.64%\n",
            "Epoch [2/3], Test Accuracy: 61.98%\n",
            "\n"
          ]
        },
        {
          "output_type": "stream",
          "name": "stderr",
          "text": []
        },
        {
          "output_type": "stream",
          "name": "stdout",
          "text": [
            "Epoch [3/3], Average Loss: 1.4062, Training Accuracy: 60.69%\n",
            "Epoch [3/3], Test Accuracy: 61.98%\n",
            "\n"
          ]
        }
      ],
      "source": [
        "# Move model to device without explicit FP16 casting\n",
        "quantized_model_bf16 = quantized_model_bf16.to(device)\n",
        "\n",
        "# Define loss function and optimizer\n",
        "criterion = nn.CrossEntropyLoss()\n",
        "# optimizer = optim.Adam(quantized_model_bf16.parameters(), lr=1e-7)\n",
        "optimizer = optim.SGD(quantized_model_fp16.parameters(), lr=0.01, momentum=0.9, weight_decay=5e-4)\n",
        "\n",
        "num_epochs = 3  # Adjust based on performance needs\n",
        "for epoch in range(num_epochs):\n",
        "    quantized_model_bf16.train()\n",
        "    running_loss = 0.0\n",
        "    correct_train = 0\n",
        "    total_train = 0\n",
        "\n",
        "    for batch_idx, (images, labels) in enumerate(tqdm(train_loader, desc=f\"Epoch {epoch+1}/{num_epochs}\", leave=False)):\n",
        "        images, labels = images.to(device), labels.to(device)  # Only move to GPU\n",
        "\n",
        "        # Convert images to bfloat16 format\n",
        "        images = images.bfloat16()\n",
        "\n",
        "        optimizer.zero_grad()\n",
        "\n",
        "        # Forward pass\n",
        "        outputs = quantized_model_bf16(images)\n",
        "        loss = criterion(outputs, labels)\n",
        "\n",
        "        # Backpropagation and optimization\n",
        "        loss.backward()\n",
        "\n",
        "        # Gradient clipping\n",
        "        nn.utils.clip_grad_norm_(quantized_model_bf16.parameters(), max_norm=0.5)\n",
        "\n",
        "        optimizer.step()\n",
        "\n",
        "        running_loss += loss.item()\n",
        "\n",
        "        # Calculate training accuracy for this batch\n",
        "        _, predicted = torch.max(outputs.data, 1)\n",
        "        correct_train += (predicted == labels).sum().item()\n",
        "        total_train += labels.size(0)\n",
        "\n",
        "    # Calculate and print the average loss and training accuracy for the epoch\n",
        "    avg_loss = running_loss / len(train_loader)\n",
        "    train_accuracy = 100 * correct_train / total_train\n",
        "    print(f\"Epoch [{epoch+1}/{num_epochs}], Average Loss: {avg_loss:.4f}, Training Accuracy: {train_accuracy:.2f}%\")\n",
        "\n",
        "    # Evaluate on the test set and print test accuracy\n",
        "    quantized_model_bf16.eval()\n",
        "    with torch.no_grad():\n",
        "        correct_test = 0\n",
        "        total_test = 0\n",
        "        for images, labels in test_loader:\n",
        "            images, labels = images.to(device), labels.to(device)\n",
        "            images = images.bfloat16()\n",
        "            outputs = quantized_model_bf16(images)\n",
        "            _, predicted = torch.max(outputs.data, 1)\n",
        "            correct_test += (predicted == labels).sum().item()\n",
        "            total_test += labels.size(0)\n",
        "\n",
        "    test_accuracy = 100 * correct_test / total_test\n",
        "    print(f\"Epoch [{epoch+1}/{num_epochs}], Test Accuracy: {test_accuracy:.2f}%\\n\")"
      ]
    },
    {
      "cell_type": "markdown",
      "metadata": {
        "id": "1_DokBZ9p-ML"
      },
      "source": [
        "PTQ with INT8 Bit Width"
      ]
    },
    {
      "cell_type": "code",
      "execution_count": null,
      "metadata": {
        "id": "Mf_nt140p_3h",
        "outputId": "3cf54314-db89-4ec4-9858-3c1a7f064456",
        "colab": {
          "base_uri": "https://localhost:8080/"
        }
      },
      "outputs": [
        {
          "output_type": "execute_result",
          "data": {
            "text/plain": [
              "==========================================================================================\n",
              "Layer (type:depth-idx)                   Output Shape              Param #\n",
              "==========================================================================================\n",
              "VGG                                      [1, 100]                  --\n",
              "├─Sequential: 1-1                        [1, 512, 7, 7]            --\n",
              "│    └─Conv2d: 2-1                       [1, 64, 224, 224]         (1,792)\n",
              "│    └─ReLU: 2-2                         [1, 64, 224, 224]         --\n",
              "│    └─MaxPool2d: 2-3                    [1, 64, 112, 112]         --\n",
              "│    └─Conv2d: 2-4                       [1, 128, 112, 112]        (73,856)\n",
              "│    └─ReLU: 2-5                         [1, 128, 112, 112]        --\n",
              "│    └─MaxPool2d: 2-6                    [1, 128, 56, 56]          --\n",
              "│    └─Conv2d: 2-7                       [1, 256, 56, 56]          (295,168)\n",
              "│    └─ReLU: 2-8                         [1, 256, 56, 56]          --\n",
              "│    └─Conv2d: 2-9                       [1, 256, 56, 56]          (590,080)\n",
              "│    └─ReLU: 2-10                        [1, 256, 56, 56]          --\n",
              "│    └─MaxPool2d: 2-11                   [1, 256, 28, 28]          --\n",
              "│    └─Conv2d: 2-12                      [1, 512, 28, 28]          (1,180,160)\n",
              "│    └─ReLU: 2-13                        [1, 512, 28, 28]          --\n",
              "│    └─Conv2d: 2-14                      [1, 512, 28, 28]          (2,359,808)\n",
              "│    └─ReLU: 2-15                        [1, 512, 28, 28]          --\n",
              "│    └─MaxPool2d: 2-16                   [1, 512, 14, 14]          --\n",
              "│    └─Conv2d: 2-17                      [1, 512, 14, 14]          (2,359,808)\n",
              "│    └─ReLU: 2-18                        [1, 512, 14, 14]          --\n",
              "│    └─Conv2d: 2-19                      [1, 512, 14, 14]          (2,359,808)\n",
              "│    └─ReLU: 2-20                        [1, 512, 14, 14]          --\n",
              "│    └─MaxPool2d: 2-21                   [1, 512, 7, 7]            --\n",
              "├─AdaptiveAvgPool2d: 1-2                 [1, 512, 7, 7]            --\n",
              "├─Sequential: 1-3                        [1, 100]                  --\n",
              "│    └─Linear: 2-22                      [1, 4096]                 (102,764,544)\n",
              "│    └─ReLU: 2-23                        [1, 4096]                 --\n",
              "│    └─Dropout: 2-24                     [1, 4096]                 --\n",
              "│    └─Linear: 2-25                      [1, 4096]                 (16,781,312)\n",
              "│    └─ReLU: 2-26                        [1, 4096]                 --\n",
              "│    └─Dropout: 2-27                     [1, 4096]                 --\n",
              "│    └─Linear: 2-28                      [1, 100]                  409,700\n",
              "==========================================================================================\n",
              "Total params: 129,176,036\n",
              "Trainable params: 100\n",
              "Non-trainable params: 129,175,936\n",
              "Total mult-adds (G): 7.61\n",
              "==========================================================================================\n",
              "Input size (MB): 0.60\n",
              "Forward/backward pass size (MB): 59.47\n",
              "Params size (MB): 516.70\n",
              "Estimated Total Size (MB): 576.78\n",
              "=========================================================================================="
            ]
          },
          "metadata": {},
          "execution_count": 16
        }
      ],
      "source": [
        "# Quantizing the model to int 8 bit width using the torch ao apis\n",
        "# int8_quantized_model = copy.deepcopy(vgg11)\n",
        "int8_quantized_model = copy.deepcopy(finetuned_model)\n",
        "\n",
        "# Quantizing the model\n",
        "quantize_(int8_quantized_model, int8_weight_only())\n",
        "\n",
        "# Printing the model summary following quanitzation\n",
        "summary(int8_quantized_model, input_size=(1, 3, 224, 224))"
      ]
    },
    {
      "cell_type": "markdown",
      "metadata": {
        "id": "ZqdmWIw9kCe3"
      },
      "source": [
        "#### Evaluating the model after quantization"
      ]
    },
    {
      "cell_type": "code",
      "source": [
        "int8_quantized_model = int8_quantized_model.to(device)\n",
        "\n",
        "def evaluate_int8_vgg11(model, dataloader):\n",
        "    \"\"\"Evaluates the int8 quantized VGG11 model.\n",
        "\n",
        "    Args:\n",
        "        model: The int8 quantized VGG11 model.\n",
        "        dataloader: The dataloader for the evaluation data.\n",
        "\n",
        "    Returns:\n",
        "        The accuracy of the model on the evaluation data.\n",
        "    \"\"\"\n",
        "    model.eval()\n",
        "    correct = 0\n",
        "    total = 0\n",
        "    with torch.no_grad():\n",
        "        for images, labels in tqdm(dataloader, desc=\"Evaluating Int8 VGG11\", leave=False):\n",
        "            images = images.to(device)  # Move images to device\n",
        "            labels = labels.to(device)  # Move labels to device\n",
        "\n",
        "            outputs = model(images)  # Perform forward pass\n",
        "            _, predicted = torch.max(outputs.data, 1)\n",
        "            total += labels.size(0)\n",
        "            correct += (predicted == labels).sum().item()\n",
        "\n",
        "    accuracy = 100 * (correct / total)\n",
        "    return accuracy\n",
        "\n",
        "# Testing with the int8 quantized model\n",
        "int8_quantized_acc = evaluate_int8_vgg11(int8_quantized_model, test_loader)\n",
        "print(\"Int8 Quantized Accuracy:\", int8_quantized_acc)"
      ],
      "metadata": {
        "colab": {
          "base_uri": "https://localhost:8080/"
        },
        "id": "8e1q8KHCmdyG",
        "outputId": "0245516d-c333-44d1-ca3d-17c46081f721"
      },
      "execution_count": null,
      "outputs": [
        {
          "output_type": "stream",
          "name": "stderr",
          "text": [
            "                                                                        "
          ]
        },
        {
          "output_type": "stream",
          "name": "stdout",
          "text": [
            "Int8 Quantized Accuracy: 61.83\n"
          ]
        },
        {
          "output_type": "stream",
          "name": "stderr",
          "text": [
            "\r"
          ]
        }
      ]
    },
    {
      "cell_type": "markdown",
      "source": [
        "#### Preparing INT8 quantized model for QAT"
      ],
      "metadata": {
        "id": "QP5hXAFpmiLT"
      }
    },
    {
      "cell_type": "code",
      "source": [
        "from torchao.quantization.prototype.qat import Int8DynActInt4WeightQATQuantizer\n",
        "\n",
        "# Quantizing the model to int 8 bit width using the torch ao apis\n",
        "# int8_quantized_model = copy.deepcopy(vgg11)\n",
        "int8_quantized_model = copy.deepcopy(finetuned_model)\n",
        "\n",
        "# Quantizing the model\n",
        "qat_quantizer = Int8DynActInt4WeightQATQuantizer()\n",
        "\n",
        "int8_quantized_model = qat_quantizer.prepare(int8_quantized_model)\n",
        "\n",
        "# Printing the model summary following quanitzation\n",
        "summary(int8_quantized_model, input_size=(1, 3, 224, 224))"
      ],
      "metadata": {
        "colab": {
          "base_uri": "https://localhost:8080/"
        },
        "id": "FE3Rw1pNmlSF",
        "outputId": "028bbda6-4940-41dd-fde9-818508eccfd4"
      },
      "execution_count": null,
      "outputs": [
        {
          "output_type": "execute_result",
          "data": {
            "text/plain": [
              "==========================================================================================\n",
              "Layer (type:depth-idx)                   Output Shape              Param #\n",
              "==========================================================================================\n",
              "VGG                                      [1, 100]                  --\n",
              "├─Sequential: 1-1                        [1, 512, 7, 7]            --\n",
              "│    └─Conv2d: 2-1                       [1, 64, 224, 224]         (1,792)\n",
              "│    └─ReLU: 2-2                         [1, 64, 224, 224]         --\n",
              "│    └─MaxPool2d: 2-3                    [1, 64, 112, 112]         --\n",
              "│    └─Conv2d: 2-4                       [1, 128, 112, 112]        (73,856)\n",
              "│    └─ReLU: 2-5                         [1, 128, 112, 112]        --\n",
              "│    └─MaxPool2d: 2-6                    [1, 128, 56, 56]          --\n",
              "│    └─Conv2d: 2-7                       [1, 256, 56, 56]          (295,168)\n",
              "│    └─ReLU: 2-8                         [1, 256, 56, 56]          --\n",
              "│    └─Conv2d: 2-9                       [1, 256, 56, 56]          (590,080)\n",
              "│    └─ReLU: 2-10                        [1, 256, 56, 56]          --\n",
              "│    └─MaxPool2d: 2-11                   [1, 256, 28, 28]          --\n",
              "│    └─Conv2d: 2-12                      [1, 512, 28, 28]          (1,180,160)\n",
              "│    └─ReLU: 2-13                        [1, 512, 28, 28]          --\n",
              "│    └─Conv2d: 2-14                      [1, 512, 28, 28]          (2,359,808)\n",
              "│    └─ReLU: 2-15                        [1, 512, 28, 28]          --\n",
              "│    └─MaxPool2d: 2-16                   [1, 512, 14, 14]          --\n",
              "│    └─Conv2d: 2-17                      [1, 512, 14, 14]          (2,359,808)\n",
              "│    └─ReLU: 2-18                        [1, 512, 14, 14]          --\n",
              "│    └─Conv2d: 2-19                      [1, 512, 14, 14]          (2,359,808)\n",
              "│    └─ReLU: 2-20                        [1, 512, 14, 14]          --\n",
              "│    └─MaxPool2d: 2-21                   [1, 512, 7, 7]            --\n",
              "├─AdaptiveAvgPool2d: 1-2                 [1, 512, 7, 7]            --\n",
              "├─Sequential: 1-3                        [1, 100]                  --\n",
              "│    └─Linear: 2-22                      [1, 4096]                 102,764,544\n",
              "│    └─ReLU: 2-23                        [1, 4096]                 --\n",
              "│    └─Dropout: 2-24                     [1, 4096]                 --\n",
              "│    └─Linear: 2-25                      [1, 4096]                 16,781,312\n",
              "│    └─ReLU: 2-26                        [1, 4096]                 --\n",
              "│    └─Dropout: 2-27                     [1, 4096]                 --\n",
              "│    └─Linear: 2-28                      [1, 100]                  409,700\n",
              "==========================================================================================\n",
              "Total params: 129,176,036\n",
              "Trainable params: 119,947,364\n",
              "Non-trainable params: 9,228,672\n",
              "Total mult-adds (G): 7.61\n",
              "==========================================================================================\n",
              "Input size (MB): 0.60\n",
              "Forward/backward pass size (MB): 59.47\n",
              "Params size (MB): 516.70\n",
              "Estimated Total Size (MB): 576.78\n",
              "=========================================================================================="
            ]
          },
          "metadata": {},
          "execution_count": 18
        }
      ]
    },
    {
      "cell_type": "markdown",
      "source": [
        "#### Finetuning the model"
      ],
      "metadata": {
        "id": "Pmp0B4mRmqB1"
      }
    },
    {
      "cell_type": "code",
      "source": [
        "# Move the model to the device (e.g., GPU if available)\n",
        "int8_quantized_model = int8_quantized_model.to(device)\n",
        "\n",
        "# Define loss function and optimizer\n",
        "criterion = nn.CrossEntropyLoss()\n",
        "optimizer = torch.optim.SGD(int8_quantized_model.parameters(), lr=0.01, momentum=0.9, weight_decay=5e-4)\n",
        "\n",
        "num_epochs = 3  # Adjust based on performance needs\n",
        "for epoch in range(num_epochs):\n",
        "    int8_quantized_model.train()\n",
        "    running_loss = 0.0\n",
        "    correct_train = 0\n",
        "    total_train = 0\n",
        "\n",
        "    for batch_idx, (images, labels) in enumerate(tqdm(train_loader, desc=f\"Epoch {epoch+1}/{num_epochs}\", leave=False)):\n",
        "        images, labels = images.to(device), labels.to(device)\n",
        "\n",
        "        optimizer.zero_grad()\n",
        "\n",
        "        # Forward pass\n",
        "        outputs = int8_quantized_model(images)\n",
        "        loss = criterion(outputs, labels)\n",
        "\n",
        "        # Backpropagation and optimization\n",
        "        loss.backward()\n",
        "        optimizer.step()\n",
        "\n",
        "        running_loss += loss.item()\n",
        "\n",
        "        # Calculate training accuracy\n",
        "        _, predicted = torch.max(outputs, 1)\n",
        "        correct_train += (predicted == labels).sum().item()\n",
        "        total_train += labels.size(0)\n",
        "\n",
        "    # Print average loss and training accuracy for the epoch\n",
        "    train_accuracy = 100 * correct_train / total_train\n",
        "    print(f\"Epoch [{epoch+1}/{num_epochs}], Average Loss: {running_loss/len(train_loader):.4f}, Training Accuracy: {train_accuracy:.2f}%\")\n",
        "\n",
        "    # Evaluate on the test set and print test accuracy\n",
        "    int8_quantized_model.eval()\n",
        "    with torch.no_grad():\n",
        "        correct_test = 0\n",
        "        total_test = 0\n",
        "        for images, labels in test_loader:\n",
        "            images, labels = images.to(device), labels.to(device)\n",
        "            outputs = int8_quantized_model(images)\n",
        "            _, predicted = torch.max(outputs.data, 1)\n",
        "            correct_test += (predicted == labels).sum().item()\n",
        "            total_test += labels.size(0)\n",
        "\n",
        "    test_accuracy = 100 * correct_test / total_test\n",
        "    print(f\"Epoch [{epoch+1}/{num_epochs}], Test Accuracy: {test_accuracy:.2f}%\\n\")\n"
      ],
      "metadata": {
        "colab": {
          "base_uri": "https://localhost:8080/"
        },
        "id": "uxPZdfxrmrXB",
        "outputId": "544ea451-912f-402d-bf31-043e13240448"
      },
      "execution_count": null,
      "outputs": [
        {
          "output_type": "stream",
          "name": "stderr",
          "text": []
        },
        {
          "output_type": "stream",
          "name": "stdout",
          "text": [
            "Epoch [1/3], Average Loss: 1.8824, Training Accuracy: 48.34%\n",
            "Epoch [1/3], Test Accuracy: 58.53%\n",
            "\n"
          ]
        },
        {
          "output_type": "stream",
          "name": "stderr",
          "text": []
        },
        {
          "output_type": "stream",
          "name": "stdout",
          "text": [
            "Epoch [2/3], Average Loss: 1.3983, Training Accuracy: 59.91%\n",
            "Epoch [2/3], Test Accuracy: 62.50%\n",
            "\n"
          ]
        },
        {
          "output_type": "stream",
          "name": "stderr",
          "text": []
        },
        {
          "output_type": "stream",
          "name": "stdout",
          "text": [
            "Epoch [3/3], Average Loss: 1.0341, Training Accuracy: 69.56%\n",
            "Epoch [3/3], Test Accuracy: 64.59%\n",
            "\n"
          ]
        }
      ]
    },
    {
      "cell_type": "markdown",
      "source": [
        "#### Converting the model to the quantized version"
      ],
      "metadata": {
        "id": "hF-QNmESsoMW"
      }
    },
    {
      "cell_type": "code",
      "source": [
        "int8_quantized_model = qat_quantizer.convert(int8_quantized_model)\n",
        "\n",
        "# Evaluating after converting the model\n",
        "int8_quantized_acc = evaluate_int8_vgg11(int8_quantized_model, test_loader)\n",
        "print(\"Int8 Quantized Accuracy:\", int8_quantized_acc)"
      ],
      "metadata": {
        "colab": {
          "base_uri": "https://localhost:8080/"
        },
        "id": "5PvXOR3IsrR3",
        "outputId": "132b7e9c-f119-443a-9c31-7b764cc46def"
      },
      "execution_count": null,
      "outputs": [
        {
          "output_type": "stream",
          "name": "stderr",
          "text": [
            "                                                                        "
          ]
        },
        {
          "output_type": "stream",
          "name": "stdout",
          "text": [
            "Int8 Quantized Accuracy: 64.59\n"
          ]
        },
        {
          "output_type": "stream",
          "name": "stderr",
          "text": [
            "\r"
          ]
        }
      ]
    },
    {
      "cell_type": "markdown",
      "source": [
        "#### PTQ with INT4 Bit Width"
      ],
      "metadata": {
        "id": "INcWnvdKM697"
      }
    },
    {
      "cell_type": "code",
      "source": [
        "from torchao.quantization.prototype.qat import Int4WeightOnlyQATQuantizer\n",
        "\n",
        "# Quantizing the model to int 8 bit width using the torch ao apis\n",
        "# int4_quantized_model = copy.deepcopy(vgg11)\n",
        "int4_quantized_model = copy.deepcopy(finetuned_model)\n",
        "\n",
        "\n",
        "int4_quantized_model = int4_quantized_model.to(torch.bfloat16)\n",
        "\n",
        "# quantize(int4_quantized_model, weights=qint4, activations=qint4)\n",
        "\n",
        "quantize_(int4_quantized_model, int4_weight_only())\n",
        "\n",
        "# # Quantizing the model\n",
        "# qat_quantizer = Int4WeightOnlyQATQuantizer()\n",
        "\n",
        "# int4_quantized_model = qat_quantizer.prepare(int4_quantized_model)\n",
        "\n",
        "# Printing the model summary following quanitzation\n",
        "# summary(int4_quantized_model, input_size=(1, 3, 224, 224), dtypes=[qint4])"
      ],
      "metadata": {
        "id": "TcwU5ic7M81B"
      },
      "execution_count": 8,
      "outputs": []
    },
    {
      "cell_type": "markdown",
      "source": [
        "#### Evaluating the model after quantization"
      ],
      "metadata": {
        "id": "QdSGbnhgM_Nl"
      }
    },
    {
      "cell_type": "code",
      "source": [
        "# int4_quantized_model = qat_quantizer.convert(int4_quantized_model)\n",
        "int4_quantized_model = int4_quantized_model.to(device)\n",
        "\n",
        "def evaluate_int4_vgg11(model, dataloader):\n",
        "    \"\"\"Evaluates the int4 quantized VGG11 model.\n",
        "\n",
        "    Args:\n",
        "        model: The int4 quantized VGG11 model.\n",
        "        dataloader: The dataloader for the evaluation data.\n",
        "\n",
        "    Returns:\n",
        "        The accuracy of the model on the evaluation data.\n",
        "    \"\"\"\n",
        "    model.eval()\n",
        "    correct = 0\n",
        "    total = 0\n",
        "    with torch.no_grad():\n",
        "        for images, labels in tqdm(dataloader, desc=\"Evaluating Int4 VGG11\", leave=False):\n",
        "            images = images.to(device)  # Move images to device\n",
        "            labels = labels.to(device)  # Move labels to device\n",
        "\n",
        "            images = images.to(torch.bfloat16)\n",
        "\n",
        "            outputs = model(images)  # Perform forward pass\n",
        "            _, predicted = torch.max(outputs.data, 1)\n",
        "            total += labels.size(0)\n",
        "            correct += (predicted == labels).sum().item()\n",
        "\n",
        "    accuracy = 100 * correct / total\n",
        "    return accuracy\n",
        "\n",
        "# Testing with the int4 quantized model\n",
        "int4_quantized_acc = evaluate_int4_vgg11(int4_quantized_model, test_loader)\n",
        "print(\"Int4 Quantized Accuracy:\", int4_quantized_acc)"
      ],
      "metadata": {
        "colab": {
          "base_uri": "https://localhost:8080/"
        },
        "id": "qW_uwjOwNBHG",
        "outputId": "0794e249-c11e-4d62-a9c2-d9ba7be2837a"
      },
      "execution_count": 9,
      "outputs": [
        {
          "output_type": "stream",
          "name": "stderr",
          "text": [
            "                                                                        "
          ]
        },
        {
          "output_type": "stream",
          "name": "stdout",
          "text": [
            "Int4 Quantized Accuracy: 61.64\n"
          ]
        },
        {
          "output_type": "stream",
          "name": "stderr",
          "text": [
            "\r"
          ]
        }
      ]
    },
    {
      "cell_type": "markdown",
      "source": [
        "#### Preparing the Int 4 model for QAT"
      ],
      "metadata": {
        "id": "TKURe--yqX7P"
      }
    },
    {
      "cell_type": "code",
      "source": [
        "from torchao.quantization.prototype.qat import Int4WeightOnlyQATQuantizer\n",
        "\n",
        "int4_quantized_model = copy.deepcopy(finetuned_model)\n",
        "\n",
        "\n",
        "int4_quantized_model = int4_quantized_model.to(torch.bfloat16)\n",
        "\n",
        "# Quantizing the model\n",
        "qat_quantizer = Int4WeightOnlyQATQuantizer()\n",
        "\n",
        "int4_quantized_model = qat_quantizer.prepare(int4_quantized_model)\n"
      ],
      "metadata": {
        "id": "CawmCWBdqXjH"
      },
      "execution_count": 10,
      "outputs": []
    },
    {
      "cell_type": "markdown",
      "source": [
        "#### QAT with the INT4 model"
      ],
      "metadata": {
        "id": "J38NMLvvpplk"
      }
    },
    {
      "cell_type": "code",
      "source": [
        "# Move the model to the device (e.g., GPU if available)\n",
        "int4_quantized_model = int4_quantized_model.to(device)\n",
        "\n",
        "# Define loss function and optimizer\n",
        "criterion = nn.CrossEntropyLoss()\n",
        "optimizer = torch.optim.SGD(int4_quantized_model.parameters(), lr=0.01, momentum=0.9, weight_decay=5e-4)\n",
        "\n",
        "num_epochs = 3  # Adjust based on performance needs\n",
        "for epoch in range(num_epochs):\n",
        "    int4_quantized_model.train()\n",
        "    running_loss = 0.0\n",
        "    correct_train = 0\n",
        "    total_train = 0\n",
        "\n",
        "    for batch_idx, (images, labels) in enumerate(tqdm(train_loader, desc=f\"Epoch {epoch+1}/{num_epochs}\", leave=False)):\n",
        "        images, labels = images.to(device), labels.to(device)\n",
        "\n",
        "        images = images.to(torch.bfloat16)\n",
        "\n",
        "        optimizer.zero_grad()\n",
        "\n",
        "        # Forward pass\n",
        "        outputs = int4_quantized_model(images)\n",
        "        loss = criterion(outputs, labels)\n",
        "\n",
        "        # Backpropagation and optimization\n",
        "        loss.backward()\n",
        "        optimizer.step()\n",
        "\n",
        "        running_loss += loss.item()\n",
        "\n",
        "        # Calculate training accuracy\n",
        "        _, predicted = torch.max(outputs, 1)\n",
        "        correct_train += (predicted == labels).sum().item()\n",
        "        total_train += labels.size(0)\n",
        "\n",
        "    # Print average loss and training accuracy for the epoch\n",
        "    train_accuracy = 100 * correct_train / total_train\n",
        "    print(f\"Epoch [{epoch+1}/{num_epochs}], Average Loss: {running_loss/len(train_loader):.4f}, Training Accuracy: {train_accuracy:.2f}%\")\n",
        "\n",
        "    # Evaluate on the test set and print test accuracy\n",
        "    int4_quantized_model.eval()\n",
        "    with torch.no_grad():\n",
        "        correct_test = 0\n",
        "        total_test = 0\n",
        "        for images, labels in test_loader:\n",
        "            images, labels = images.to(device), labels.to(device)\n",
        "            images = images.to(torch.bfloat16)\n",
        "            outputs = int4_quantized_model(images)\n",
        "            _, predicted = torch.max(outputs.data, 1)\n",
        "            correct_test += (predicted == labels).sum().item()\n",
        "            total_test += labels.size(0)\n",
        "\n",
        "    test_accuracy = 100 * correct_test / total_test\n",
        "    print(f\"Epoch [{epoch+1}/{num_epochs}], Test Accuracy: {test_accuracy:.2f}%\\n\")\n"
      ],
      "metadata": {
        "colab": {
          "base_uri": "https://localhost:8080/"
        },
        "id": "PjpU32xAprUE",
        "outputId": "304951b7-932c-4b74-c566-5b4798bfd4e6"
      },
      "execution_count": 11,
      "outputs": [
        {
          "output_type": "stream",
          "name": "stderr",
          "text": []
        },
        {
          "output_type": "stream",
          "name": "stdout",
          "text": [
            "Epoch [1/3], Average Loss: 1.8733, Training Accuracy: 48.61%\n",
            "Epoch [1/3], Test Accuracy: 59.10%\n",
            "\n"
          ]
        },
        {
          "output_type": "stream",
          "name": "stderr",
          "text": []
        },
        {
          "output_type": "stream",
          "name": "stdout",
          "text": [
            "Epoch [2/3], Average Loss: 1.4090, Training Accuracy: 59.99%\n",
            "Epoch [2/3], Test Accuracy: 62.63%\n",
            "\n"
          ]
        },
        {
          "output_type": "stream",
          "name": "stderr",
          "text": []
        },
        {
          "output_type": "stream",
          "name": "stdout",
          "text": [
            "Epoch [3/3], Average Loss: 1.0560, Training Accuracy: 68.69%\n",
            "Epoch [3/3], Test Accuracy: 64.90%\n",
            "\n"
          ]
        }
      ]
    },
    {
      "cell_type": "markdown",
      "source": [
        "#### Converting the model following finetuning"
      ],
      "metadata": {
        "id": "BZ-3LdAlTDF5"
      }
    },
    {
      "cell_type": "code",
      "source": [
        "int4_quantized_model = qat_quantizer.convert(int4_quantized_model)\n",
        "\n",
        "# Evaluating after converting the model\n",
        "int4_quantized_acc = evaluate_int4_vgg11(int4_quantized_model, test_loader)\n",
        "print(\"Int8 Quantized Accuracy:\", int4_quantized_acc)"
      ],
      "metadata": {
        "colab": {
          "base_uri": "https://localhost:8080/"
        },
        "id": "LjqRpol3TFS9",
        "outputId": "ec4aefdc-fb9e-4f02-b475-581824a72a83"
      },
      "execution_count": 12,
      "outputs": [
        {
          "output_type": "stream",
          "name": "stderr",
          "text": [
            "                                                                        "
          ]
        },
        {
          "output_type": "stream",
          "name": "stdout",
          "text": [
            "Int8 Quantized Accuracy: 64.89\n"
          ]
        },
        {
          "output_type": "stream",
          "name": "stderr",
          "text": [
            "\r"
          ]
        }
      ]
    }
  ],
  "metadata": {
    "accelerator": "GPU",
    "colab": {
      "gpuType": "A100",
      "provenance": [],
      "machine_shape": "hm"
    },
    "kernelspec": {
      "display_name": "Python 3",
      "name": "python3"
    },
    "language_info": {
      "codemirror_mode": {
        "name": "ipython",
        "version": 3
      },
      "file_extension": ".py",
      "mimetype": "text/x-python",
      "name": "python",
      "nbconvert_exporter": "python",
      "pygments_lexer": "ipython3",
      "version": "3.10.0"
    }
  },
  "nbformat": 4,
  "nbformat_minor": 0
}